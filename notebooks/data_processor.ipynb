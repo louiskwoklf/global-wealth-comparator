{
 "cells": [
  {
   "cell_type": "markdown",
   "id": "127060b4",
   "metadata": {},
   "source": [
    "### Data Sources\n",
    "PPP: https://data.worldbank.org/indicator/PA.NUS.PPP\n",
    "\n",
    "CPI: https://data.worldbank.org/indicator/FP.CPI.TOTL.ZG"
   ]
  },
  {
   "cell_type": "markdown",
   "id": "a13688de",
   "metadata": {},
   "source": [
    "#### Enter parameters for PPP"
   ]
  },
  {
   "cell_type": "code",
   "execution_count": 1,
   "id": "f54202e2",
   "metadata": {},
   "outputs": [],
   "source": [
    "PPP_YEAR = 2023"
   ]
  },
  {
   "cell_type": "markdown",
   "id": "865ce871",
   "metadata": {},
   "source": [
    "#### Clean ppp.csv"
   ]
  },
  {
   "cell_type": "code",
   "execution_count": 2,
   "id": "5d53a4a5",
   "metadata": {},
   "outputs": [
    {
     "name": "stdout",
     "output_type": "stream",
     "text": [
      "  Country Code        2023\n",
      "0           AW    1.352821\n",
      "1           AF   14.806405\n",
      "2           AO  209.794208\n",
      "3           AL   40.588824\n",
      "4           AD    0.603563\n"
     ]
    }
   ],
   "source": [
    "import pandas as pd\n",
    "import pycountry\n",
    "\n",
    "df = pd.read_csv('ppp.csv', skiprows=4)\n",
    "\n",
    "df = df[['Country Code', str(PPP_YEAR)]]\n",
    "\n",
    "df = df.dropna(subset=[str(PPP_YEAR)])\n",
    "\n",
    "def convert_iso3_to_iso2(iso3):\n",
    "    try:\n",
    "        return pycountry.countries.get(alpha_3=iso3).alpha_2\n",
    "    except:\n",
    "        return None\n",
    "\n",
    "df['Country Code'] = df['Country Code'].apply(convert_iso3_to_iso2)\n",
    "\n",
    "df = df.dropna(subset=['Country Code'])\n",
    "\n",
    "df = df.reset_index(drop=True)\n",
    "\n",
    "print(df.head())\n",
    "\n",
    "df.to_csv(f'ppp_cleaned_{PPP_YEAR}.csv', index=False)"
   ]
  },
  {
   "cell_type": "markdown",
   "id": "1810a368",
   "metadata": {},
   "source": [
    "#### Enter parameters for CPI"
   ]
  },
  {
   "cell_type": "code",
   "execution_count": 3,
   "id": "affe0f7b",
   "metadata": {},
   "outputs": [],
   "source": [
    "CPI_YEARS = [2023, 2024]"
   ]
  },
  {
   "cell_type": "markdown",
   "id": "2d3b7374",
   "metadata": {},
   "source": [
    "#### Clean cpi.csv"
   ]
  },
  {
   "cell_type": "code",
   "execution_count": 5,
   "id": "789d590d",
   "metadata": {},
   "outputs": [
    {
     "name": "stdout",
     "output_type": "stream",
     "text": [
      "  Country Code       2023       2024\n",
      "0           AF  -4.644709  -6.601186\n",
      "1           AO  13.644102  28.240495\n",
      "2           AL   4.759764   2.214490\n",
      "3           AM   1.980419   0.269512\n",
      "4           AU   5.597015   3.161614\n"
     ]
    }
   ],
   "source": [
    "import pandas as pd\n",
    "import pycountry\n",
    "\n",
    "df = pd.read_csv('cpi.csv', skiprows=4)\n",
    "\n",
    "year_cols = [str(year) for year in CPI_YEARS]\n",
    "\n",
    "df = df[['Country Code'] + year_cols]\n",
    "\n",
    "df = df.dropna(subset=year_cols)\n",
    "\n",
    "def convert_iso3_to_iso2(iso3):\n",
    "    try:\n",
    "        return pycountry.countries.get(alpha_3=iso3).alpha_2\n",
    "    except:\n",
    "        return None\n",
    "\n",
    "df['Country Code'] = df['Country Code'].apply(convert_iso3_to_iso2)\n",
    "\n",
    "df = df.dropna(subset=['Country Code'])\n",
    "\n",
    "df = df.reset_index(drop=True)\n",
    "\n",
    "print(df.head())\n",
    "\n",
    "year_range = f\"{CPI_YEARS[0]}_to_{CPI_YEARS[-1]}\"\n",
    "filename = f\"cpi_cleaned_{year_range}.csv\"\n",
    "\n",
    "df.to_csv(filename, index=False)"
   ]
  }
 ],
 "metadata": {
  "kernelspec": {
   "display_name": "Python 3",
   "language": "python",
   "name": "python3"
  },
  "language_info": {
   "codemirror_mode": {
    "name": "ipython",
    "version": 3
   },
   "file_extension": ".py",
   "mimetype": "text/x-python",
   "name": "python",
   "nbconvert_exporter": "python",
   "pygments_lexer": "ipython3",
   "version": "3.12.2"
  }
 },
 "nbformat": 4,
 "nbformat_minor": 5
}
