{
 "cells": [
  {
   "cell_type": "markdown",
   "id": "127060b4",
   "metadata": {},
   "source": [
    "### Data Sources\n",
    "PPP: https://data.worldbank.org/indicator/PA.NUS.PPP\n",
    "\n",
    "CPI: https://data.worldbank.org/indicator/FP.CPI.TOTL.ZG"
   ]
  },
  {
   "cell_type": "markdown",
   "id": "a13688de",
   "metadata": {},
   "source": [
    "#### Enter parameters for PPP"
   ]
  },
  {
   "cell_type": "code",
   "execution_count": 10,
   "id": "f54202e2",
   "metadata": {},
   "outputs": [],
   "source": [
    "PPP_YEAR = 2023\n",
    "RAW_PATH = Path('data/raw/ppp.csv')\n",
    "OUTPUT_PATH = Path(f'data/processed/ppp_cleaned_{PPP_YEAR}.csv')"
   ]
  },
  {
   "cell_type": "markdown",
   "id": "865ce871",
   "metadata": {},
   "source": [
    "#### Clean ppp.csv"
   ]
  },
  {
   "cell_type": "code",
   "execution_count": 11,
   "id": "5d53a4a5",
   "metadata": {},
   "outputs": [
    {
     "name": "stdout",
     "output_type": "stream",
     "text": [
      "  Country Code        2023\n",
      "0           AW    1.352821\n",
      "1           AF   14.806405\n",
      "2           AO  209.794208\n",
      "3           AL   40.588824\n",
      "4           AD    0.603563\n"
     ]
    }
   ],
   "source": [
    "import pandas as pd\n",
    "import pycountry\n",
    "from pathlib import Path\n",
    "\n",
    "# Load data, skipping metadata lines\n",
    "df = pd.read_csv(RAW_PATH, skiprows=4)\n",
    "\n",
    "# Keep only necessary columns\n",
    "df = df[['Country Code', str(PPP_YEAR)]]\n",
    "\n",
    "# Drop rows with missing PPP data\n",
    "df = df.dropna(subset=[str(PPP_YEAR)])\n",
    "\n",
    "# Convert ISO-3 to ISO-2 country codes\n",
    "def convert_iso3_to_iso2(iso3):\n",
    "    try:\n",
    "        return pycountry.countries.get(alpha_3=iso3).alpha_2\n",
    "    except:\n",
    "        return None\n",
    "\n",
    "df['Country Code'] = df['Country Code'].apply(convert_iso3_to_iso2)\n",
    "\n",
    "# Drop rows with failed conversion\n",
    "df = df.dropna(subset=['Country Code'])\n",
    "\n",
    "# Reset index\n",
    "df = df.reset_index(drop=True)\n",
    "\n",
    "# Output preview\n",
    "print(df.head())\n",
    "\n",
    "# Save cleaned PPP data\n",
    "df.to_csv(OUTPUT_PATH, index=False)"
   ]
  },
  {
   "cell_type": "markdown",
   "id": "1810a368",
   "metadata": {},
   "source": [
    "#### Enter parameters for CPI"
   ]
  },
  {
   "cell_type": "code",
   "execution_count": 12,
   "id": "affe0f7b",
   "metadata": {},
   "outputs": [],
   "source": [
    "CPI_YEAR = 2024\n",
    "RAW_PATH = Path('data/raw/cpi.csv')\n",
    "OUTPUT_PATH = Path(f'data/processed/cpi_cleaned_{CPI_YEAR}.csv')"
   ]
  },
  {
   "cell_type": "markdown",
   "id": "2d3b7374",
   "metadata": {},
   "source": [
    "#### Clean cpi.csv"
   ]
  },
  {
   "cell_type": "code",
   "execution_count": 13,
   "id": "789d590d",
   "metadata": {},
   "outputs": [
    {
     "name": "stdout",
     "output_type": "stream",
     "text": [
      "  Country Code       2024\n",
      "0           AF  -6.601186\n",
      "1           AO  28.240495\n",
      "2           AL   2.214490\n",
      "3           AM   0.269512\n",
      "4           AU   3.161614\n"
     ]
    }
   ],
   "source": [
    "import pandas as pd\n",
    "import pycountry\n",
    "from pathlib import Path\n",
    "\n",
    "# Load data, skipping metadata lines\n",
    "df = pd.read_csv(RAW_PATH, skiprows=4)\n",
    "\n",
    "# Keep only necessary columns\n",
    "df = df[['Country Code', str(CPI_YEAR)]]\n",
    "\n",
    "# Drop rows with missing CPI data\n",
    "df = df.dropna(subset=[str(CPI_YEAR)])\n",
    "\n",
    "# Convert ISO-3 to ISO-2 country codes\n",
    "def convert_iso3_to_iso2(iso3):\n",
    "    try:\n",
    "        return pycountry.countries.get(alpha_3=iso3).alpha_2\n",
    "    except:\n",
    "        return None\n",
    "\n",
    "df['Country Code'] = df['Country Code'].apply(convert_iso3_to_iso2)\n",
    "\n",
    "# Drop rows with failed conversion\n",
    "df = df.dropna(subset=['Country Code'])\n",
    "\n",
    "# Reset index\n",
    "df = df.reset_index(drop=True)\n",
    "\n",
    "# Output preview\n",
    "print(df.head())\n",
    "\n",
    "# Save cleaned CPI data\n",
    "df.to_csv(OUTPUT_PATH, index=False)"
   ]
  }
 ],
 "metadata": {
  "kernelspec": {
   "display_name": "Python 3",
   "language": "python",
   "name": "python3"
  },
  "language_info": {
   "codemirror_mode": {
    "name": "ipython",
    "version": 3
   },
   "file_extension": ".py",
   "mimetype": "text/x-python",
   "name": "python",
   "nbconvert_exporter": "python",
   "pygments_lexer": "ipython3",
   "version": "3.12.2"
  }
 },
 "nbformat": 4,
 "nbformat_minor": 5
}
